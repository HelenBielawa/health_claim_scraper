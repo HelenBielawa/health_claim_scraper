{
 "cells": [
  {
   "cell_type": "code",
   "execution_count": 21,
   "id": "9ad66d00",
   "metadata": {},
   "outputs": [],
   "source": [
    "import pandas as pd\n",
    "import requests\n",
    "import nltk\n",
    "from nltk.tokenize import word_tokenize\n",
    "import spacy\n",
    "nlp = spacy.load('de_core_news_sm')\n",
    "from bs4 import BeautifulSoup"
   ]
  },
  {
   "cell_type": "markdown",
   "id": "abab73ea",
   "metadata": {},
   "source": [
    "# Scrape the table data"
   ]
  },
  {
   "cell_type": "code",
   "execution_count": 7,
   "id": "4d37589f",
   "metadata": {},
   "outputs": [],
   "source": [
    "URL = \"https://eur-lex.europa.eu/legal-content/DE/TXT/HTML/?uri=CELEX:02012R0432-20210517#tocId5\"\n",
    "page = requests.get(URL)\n",
    "\n",
    "soup = BeautifulSoup(page.content, \"html.parser\")"
   ]
  },
  {
   "cell_type": "code",
   "execution_count": 8,
   "id": "5e203168",
   "metadata": {},
   "outputs": [],
   "source": [
    "# Find the <p> tag with class \"title-table\"\n",
    "title_table_p = soup.find('p', class_='title-table')\n",
    "\n",
    "# Find the next <table> tag following the title-table <p> tag\n",
    "desired_table = title_table_p.find_next('table')\n",
    "\n",
    "# Replace sub-tables in cells with a placeholder string\n",
    "for cell in desired_table.find_all('td'):\n",
    "    sub_table = cell.find('table')\n",
    "    if sub_table:\n",
    "        cell.string = 'SUB_TABLE_PLACEHOLDER'"
   ]
  },
  {
   "cell_type": "markdown",
   "id": "a92d3d2b",
   "metadata": {},
   "source": [
    "# Format and clean the data"
   ]
  },
  {
   "cell_type": "code",
   "execution_count": 9,
   "id": "53a6eafa",
   "metadata": {},
   "outputs": [],
   "source": [
    "headers = [header.get_text(strip=True) for header in desired_table.find('tr').find_all('td')]"
   ]
  },
  {
   "cell_type": "code",
   "execution_count": 10,
   "id": "077e530f",
   "metadata": {},
   "outputs": [],
   "source": [
    "df = pd.read_html(str(desired_table), header=0)[0]\n",
    "df = df.drop(columns=['Bedingungen und/oder Beschränkungen hinsichtlich der Verwendung des Lebensmittels und/oder zusätzliche Erklärungen oder Warnungen',\n",
    "                       'Nummer im EFSA Journal',\n",
    "                       'Nummer des Eintrags in der konsolidierten Liste, die der EFSA zur Bewertung vorgelegt wurde'])\n",
    "df = df.rename(columns={\"Nährstoff, Substanz, Lebensmittel oder Lebensmittelkategorie\": \"Nährstoff\",\n",
    "                        \"Angabe\":\"Claim\",\n",
    "                   \"Bedingungen für die Verwendung der Angabe\": \"Bedingungen\",\n",
    "                  })"
   ]
  },
  {
   "cell_type": "code",
   "execution_count": 11,
   "id": "d5ea948d",
   "metadata": {},
   "outputs": [],
   "source": [
    "# Define the pattern to look for in the specified columns\n",
    "pattern_to_drop = \"▼\"\n",
    "\n",
    "# Create a boolean mask indicating which rows to drop\n",
    "rows_to_drop = df.apply(lambda row: any(pattern_to_drop in value for value in row), axis=1)\n",
    "\n",
    "# Drop the rows from the DataFrame\n",
    "df = df[~rows_to_drop]"
   ]
  },
  {
   "cell_type": "markdown",
   "id": "afde9e91",
   "metadata": {},
   "source": [
    "# Process the claims\n",
    "\n",
    "Stemming: Turn them into their basic form (walk instead of walking, tree instead of trees, ...)\n",
    "\n",
    "Remove stop words: Stop words are words like \"and\", \"or\", etc. which are not important for the meaning of a sentence\n"
   ]
  },
  {
   "cell_type": "code",
   "execution_count": 31,
   "id": "c402bd82",
   "metadata": {},
   "outputs": [],
   "source": [
    "# Function to apply stemming to a text\n",
    "def stem_text(text):\n",
    "    clean_text = [word.lemma_ for word in nlp(text) if not word.is_stop and word.is_alpha]\n",
    "    return ' '.join(clean_text)"
   ]
  },
  {
   "cell_type": "code",
   "execution_count": 32,
   "id": "070f0be7",
   "metadata": {},
   "outputs": [],
   "source": [
    "# Apply the stemming function to the 'claim' column and create a new 'processed_claim' column\n",
    "df['Processed_Claim'] = df['Claim'].apply(stem_text)"
   ]
  },
  {
   "cell_type": "code",
   "execution_count": 35,
   "id": "71fe5b12",
   "metadata": {},
   "outputs": [],
   "source": [
    "# Reorder columns\n",
    "column_order = ['Claim', 'Processed_Claim', 'Bedingung']\n",
    "df = df[column_order]"
   ]
  },
  {
   "cell_type": "markdown",
   "id": "97c13b9c",
   "metadata": {},
   "source": [
    "# Save in json file"
   ]
  },
  {
   "cell_type": "code",
   "execution_count": 36,
   "id": "44ef997c",
   "metadata": {},
   "outputs": [],
   "source": [
    "df.to_json('claims_list.json', orient='records', lines=True, force_ascii=False)"
   ]
  },
  {
   "cell_type": "code",
   "execution_count": 37,
   "id": "9f1e56c8",
   "metadata": {},
   "outputs": [
    {
     "data": {
      "text/html": [
       "<div>\n",
       "<style scoped>\n",
       "    .dataframe tbody tr th:only-of-type {\n",
       "        vertical-align: middle;\n",
       "    }\n",
       "\n",
       "    .dataframe tbody tr th {\n",
       "        vertical-align: top;\n",
       "    }\n",
       "\n",
       "    .dataframe thead th {\n",
       "        text-align: right;\n",
       "    }\n",
       "</style>\n",
       "<table border=\"1\" class=\"dataframe\">\n",
       "  <thead>\n",
       "    <tr style=\"text-align: right;\">\n",
       "      <th></th>\n",
       "      <th>Claim</th>\n",
       "      <th>Processed_Claim</th>\n",
       "    </tr>\n",
       "  </thead>\n",
       "  <tbody>\n",
       "    <tr>\n",
       "      <th>0</th>\n",
       "      <td>Aktivkohle trägt zur Verringerung übermäßiger ...</td>\n",
       "      <td>Aktivkohle tragen Verringerung übermäßig Blähu...</td>\n",
       "    </tr>\n",
       "    <tr>\n",
       "      <th>2</th>\n",
       "      <td>Der Verzehr von Alpha-Cyclodextrin als Bestand...</td>\n",
       "      <td>Verzehr Bestandteil stärkehaltig Mahlzeit trag...</td>\n",
       "    </tr>\n",
       "    <tr>\n",
       "      <th>4</th>\n",
       "      <td>ALA trägt zur Aufrechterhaltung eines normalen...</td>\n",
       "      <td>ALA tragen Aufrechterhaltung normal Cholesteri...</td>\n",
       "    </tr>\n",
       "    <tr>\n",
       "      <th>5</th>\n",
       "      <td>Die Aufnahme von Arabinoxylan als Bestandteil ...</td>\n",
       "      <td>Aufnahme Arabinoxylan Bestandteil Mahlzeit tra...</td>\n",
       "    </tr>\n",
       "    <tr>\n",
       "      <th>6</th>\n",
       "      <td>Beta-Glucane tragen zur Aufrechterhaltung eine...</td>\n",
       "      <td>tragen Aufrechterhaltung normal Cholesterinspi...</td>\n",
       "    </tr>\n",
       "    <tr>\n",
       "      <th>...</th>\n",
       "      <td>...</td>\n",
       "      <td>...</td>\n",
       "    </tr>\n",
       "    <tr>\n",
       "      <th>268</th>\n",
       "      <td>Zuckerfreier Kaugummi trägt zur Erhaltung der ...</td>\n",
       "      <td>Zuckerfreier Kaugummi tragen Erhaltung Zahnmin...</td>\n",
       "    </tr>\n",
       "    <tr>\n",
       "      <th>269</th>\n",
       "      <td>Zuckerfreier Kaugummi trägt zur Neutralisierun...</td>\n",
       "      <td>Zuckerfreier Kaugummi tragen Neutralisierung S...</td>\n",
       "    </tr>\n",
       "    <tr>\n",
       "      <th>270</th>\n",
       "      <td>Zuckerfreier Kaugummi trägt zur Verringerung v...</td>\n",
       "      <td>Zuckerfreier Kaugummi tragen Verringerung Mund...</td>\n",
       "    </tr>\n",
       "    <tr>\n",
       "      <th>271</th>\n",
       "      <td>Zuckerfreier Kaugummi mit Carbamid neutralisie...</td>\n",
       "      <td>Zuckerfreier Kaugummi Carbamid neutralisieren ...</td>\n",
       "    </tr>\n",
       "    <tr>\n",
       "      <th>272</th>\n",
       "      <td>SUB_TABLE_PLACEHOLDER</td>\n",
       "      <td></td>\n",
       "    </tr>\n",
       "  </tbody>\n",
       "</table>\n",
       "<p>241 rows × 2 columns</p>\n",
       "</div>"
      ],
      "text/plain": [
       "                                                 Claim  \\\n",
       "0    Aktivkohle trägt zur Verringerung übermäßiger ...   \n",
       "2    Der Verzehr von Alpha-Cyclodextrin als Bestand...   \n",
       "4    ALA trägt zur Aufrechterhaltung eines normalen...   \n",
       "5    Die Aufnahme von Arabinoxylan als Bestandteil ...   \n",
       "6    Beta-Glucane tragen zur Aufrechterhaltung eine...   \n",
       "..                                                 ...   \n",
       "268  Zuckerfreier Kaugummi trägt zur Erhaltung der ...   \n",
       "269  Zuckerfreier Kaugummi trägt zur Neutralisierun...   \n",
       "270  Zuckerfreier Kaugummi trägt zur Verringerung v...   \n",
       "271  Zuckerfreier Kaugummi mit Carbamid neutralisie...   \n",
       "272                              SUB_TABLE_PLACEHOLDER   \n",
       "\n",
       "                                       Processed_Claim  \n",
       "0    Aktivkohle tragen Verringerung übermäßig Blähu...  \n",
       "2    Verzehr Bestandteil stärkehaltig Mahlzeit trag...  \n",
       "4    ALA tragen Aufrechterhaltung normal Cholesteri...  \n",
       "5    Aufnahme Arabinoxylan Bestandteil Mahlzeit tra...  \n",
       "6    tragen Aufrechterhaltung normal Cholesterinspi...  \n",
       "..                                                 ...  \n",
       "268  Zuckerfreier Kaugummi tragen Erhaltung Zahnmin...  \n",
       "269  Zuckerfreier Kaugummi tragen Neutralisierung S...  \n",
       "270  Zuckerfreier Kaugummi tragen Verringerung Mund...  \n",
       "271  Zuckerfreier Kaugummi Carbamid neutralisieren ...  \n",
       "272                                                     \n",
       "\n",
       "[241 rows x 2 columns]"
      ]
     },
     "execution_count": 37,
     "metadata": {},
     "output_type": "execute_result"
    }
   ],
   "source": [
    "df"
   ]
  },
  {
   "cell_type": "code",
   "execution_count": null,
   "id": "6907a2b5",
   "metadata": {},
   "outputs": [],
   "source": []
  }
 ],
 "metadata": {
  "kernelspec": {
   "display_name": "Python 3",
   "language": "python",
   "name": "python3"
  },
  "language_info": {
   "codemirror_mode": {
    "name": "ipython",
    "version": 3
   },
   "file_extension": ".py",
   "mimetype": "text/x-python",
   "name": "python",
   "nbconvert_exporter": "python",
   "pygments_lexer": "ipython3",
   "version": "3.8.10"
  }
 },
 "nbformat": 4,
 "nbformat_minor": 5
}
