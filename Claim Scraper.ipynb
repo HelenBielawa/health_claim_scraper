{
 "cells": [
  {
   "cell_type": "code",
   "execution_count": 39,
   "id": "e0594555",
   "metadata": {},
   "outputs": [],
   "source": [
    "import pandas as pd\n",
    "import requests\n",
    "import nltk\n",
    "from nltk.tokenize import word_tokenize\n",
    "import spacy\n",
    "nlp = spacy.load('de_core_news_sm')\n",
    "from bs4 import BeautifulSoup"
   ]
  },
  {
   "cell_type": "markdown",
   "id": "df299b78",
   "metadata": {},
   "source": [
    "# Scrape the table data"
   ]
  },
  {
   "cell_type": "code",
   "execution_count": 40,
   "id": "0054b0b9",
   "metadata": {},
   "outputs": [],
   "source": [
    "URL = \"https://eur-lex.europa.eu/legal-content/DE/TXT/HTML/?uri=CELEX:02012R0432-20210517#tocId5\"\n",
    "page = requests.get(URL)\n",
    "\n",
    "soup = BeautifulSoup(page.content, \"html.parser\")"
   ]
  },
  {
   "cell_type": "code",
   "execution_count": 41,
   "id": "1273b15c",
   "metadata": {},
   "outputs": [],
   "source": [
    "# Find the <p> tag with class \"title-table\"\n",
    "title_table_p = soup.find('p', class_='title-table')\n",
    "\n",
    "# Find the next <table> tag following the title-table <p> tag\n",
    "desired_table = title_table_p.find_next('table')\n",
    "\n",
    "# Replace sub-tables in cells with a placeholder string\n",
    "for cell in desired_table.find_all('td'):\n",
    "    sub_table = cell.find('table')\n",
    "    if sub_table:\n",
    "        cell.string = 'SUB_TABLE_PLACEHOLDER'"
   ]
  },
  {
   "cell_type": "markdown",
   "id": "cc08996c",
   "metadata": {},
   "source": [
    "# Format and clean the data"
   ]
  },
  {
   "cell_type": "code",
   "execution_count": 42,
   "id": "4444c1d8",
   "metadata": {},
   "outputs": [],
   "source": [
    "headers = [header.get_text(strip=True) for header in desired_table.find('tr').find_all('td')]"
   ]
  },
  {
   "cell_type": "code",
   "execution_count": 43,
   "id": "f46d5619",
   "metadata": {},
   "outputs": [],
   "source": [
    "df = pd.read_html(str(desired_table), header=0)[0]\n",
    "df = df.drop(columns=['Bedingungen und/oder Beschränkungen hinsichtlich der Verwendung des Lebensmittels und/oder zusätzliche Erklärungen oder Warnungen',\n",
    "                       'Nummer im EFSA Journal',\n",
    "                       'Nummer des Eintrags in der konsolidierten Liste, die der EFSA zur Bewertung vorgelegt wurde'])\n",
    "df = df.rename(columns={\"Nährstoff, Substanz, Lebensmittel oder Lebensmittelkategorie\": \"Nährstoff\",\n",
    "                        \"Angabe\":\"Claim\",\n",
    "                   \"Bedingungen für die Verwendung der Angabe\": \"Bedingungen\",\n",
    "                  })"
   ]
  },
  {
   "cell_type": "code",
   "execution_count": 44,
   "id": "a3fa5e86",
   "metadata": {},
   "outputs": [],
   "source": [
    "# Define the pattern to look for in the specified columns\n",
    "pattern_to_drop = \"▼\"\n",
    "\n",
    "# Create a boolean mask indicating which rows to drop\n",
    "rows_to_drop = df.apply(lambda row: any(pattern_to_drop in value for value in row), axis=1)\n",
    "\n",
    "# Drop the rows from the DataFrame\n",
    "df = df[~rows_to_drop]"
   ]
  },
  {
   "cell_type": "markdown",
   "id": "06b00246",
   "metadata": {},
   "source": [
    "# Process the claims\n",
    "\n",
    "Stemming: Turn them into their basic form (walk instead of walking, tree instead of trees, ...)\n",
    "\n",
    "Remove stop words: Stop words are words like \"and\", \"or\", etc. which are not important for the meaning of a sentence\n"
   ]
  },
  {
   "cell_type": "code",
   "execution_count": 45,
   "id": "af9b2d7d",
   "metadata": {},
   "outputs": [],
   "source": [
    "# Function to apply stemming to a text\n",
    "def stem_text(text):\n",
    "    clean_text = [word.lemma_ for word in nlp(text) if not word.is_stop and word.is_alpha]\n",
    "    return ' '.join(clean_text)"
   ]
  },
  {
   "cell_type": "code",
   "execution_count": 46,
   "id": "e669e81d",
   "metadata": {},
   "outputs": [],
   "source": [
    "# Apply the stemming function to the 'claim' column and create a new 'processed_claim' column\n",
    "df['Processed_Claim'] = df['Claim'].apply(stem_text)"
   ]
  },
  {
   "cell_type": "code",
   "execution_count": 50,
   "id": "2387d410",
   "metadata": {},
   "outputs": [
    {
     "ename": "KeyError",
     "evalue": "\"['Nährstoff'] not in index\"",
     "output_type": "error",
     "traceback": [
      "\u001b[0;31m---------------------------------------------------------------------------\u001b[0m",
      "\u001b[0;31mKeyError\u001b[0m                                  Traceback (most recent call last)",
      "\u001b[0;32m<ipython-input-50-2f1b8c01412d>\u001b[0m in \u001b[0;36m<module>\u001b[0;34m\u001b[0m\n\u001b[1;32m      1\u001b[0m \u001b[0;31m# Reorder columns\u001b[0m\u001b[0;34m\u001b[0m\u001b[0;34m\u001b[0m\u001b[0;34m\u001b[0m\u001b[0m\n\u001b[1;32m      2\u001b[0m \u001b[0mcolumn_order\u001b[0m \u001b[0;34m=\u001b[0m \u001b[0;34m[\u001b[0m\u001b[0;34m'Nährstoff'\u001b[0m\u001b[0;34m,\u001b[0m \u001b[0;34m'Claim'\u001b[0m\u001b[0;34m,\u001b[0m \u001b[0;34m'Processed_Claim'\u001b[0m\u001b[0;34m,\u001b[0m \u001b[0;34m'Bedingungen'\u001b[0m\u001b[0;34m]\u001b[0m\u001b[0;34m\u001b[0m\u001b[0;34m\u001b[0m\u001b[0m\n\u001b[0;32m----> 3\u001b[0;31m \u001b[0mdf\u001b[0m \u001b[0;34m=\u001b[0m \u001b[0mdf\u001b[0m\u001b[0;34m[\u001b[0m\u001b[0mcolumn_order\u001b[0m\u001b[0;34m]\u001b[0m\u001b[0;34m\u001b[0m\u001b[0;34m\u001b[0m\u001b[0m\n\u001b[0m",
      "\u001b[0;32m/usr/lib/python3/dist-packages/pandas/core/frame.py\u001b[0m in \u001b[0;36m__getitem__\u001b[0;34m(self, key)\u001b[0m\n\u001b[1;32m   2999\u001b[0m             \u001b[0;32mif\u001b[0m \u001b[0mis_iterator\u001b[0m\u001b[0;34m(\u001b[0m\u001b[0mkey\u001b[0m\u001b[0;34m)\u001b[0m\u001b[0;34m:\u001b[0m\u001b[0;34m\u001b[0m\u001b[0;34m\u001b[0m\u001b[0m\n\u001b[1;32m   3000\u001b[0m                 \u001b[0mkey\u001b[0m \u001b[0;34m=\u001b[0m \u001b[0mlist\u001b[0m\u001b[0;34m(\u001b[0m\u001b[0mkey\u001b[0m\u001b[0;34m)\u001b[0m\u001b[0;34m\u001b[0m\u001b[0;34m\u001b[0m\u001b[0m\n\u001b[0;32m-> 3001\u001b[0;31m             \u001b[0mindexer\u001b[0m \u001b[0;34m=\u001b[0m \u001b[0mself\u001b[0m\u001b[0;34m.\u001b[0m\u001b[0mloc\u001b[0m\u001b[0;34m.\u001b[0m\u001b[0m_convert_to_indexer\u001b[0m\u001b[0;34m(\u001b[0m\u001b[0mkey\u001b[0m\u001b[0;34m,\u001b[0m \u001b[0maxis\u001b[0m\u001b[0;34m=\u001b[0m\u001b[0;36m1\u001b[0m\u001b[0;34m,\u001b[0m \u001b[0mraise_missing\u001b[0m\u001b[0;34m=\u001b[0m\u001b[0;32mTrue\u001b[0m\u001b[0;34m)\u001b[0m\u001b[0;34m\u001b[0m\u001b[0;34m\u001b[0m\u001b[0m\n\u001b[0m\u001b[1;32m   3002\u001b[0m \u001b[0;34m\u001b[0m\u001b[0m\n\u001b[1;32m   3003\u001b[0m         \u001b[0;31m# take() does not accept boolean indexers\u001b[0m\u001b[0;34m\u001b[0m\u001b[0;34m\u001b[0m\u001b[0;34m\u001b[0m\u001b[0m\n",
      "\u001b[0;32m/usr/lib/python3/dist-packages/pandas/core/indexing.py\u001b[0m in \u001b[0;36m_convert_to_indexer\u001b[0;34m(self, obj, axis, is_setter, raise_missing)\u001b[0m\n\u001b[1;32m   1283\u001b[0m                 \u001b[0;31m# When setting, missing keys are not allowed, even with .loc:\u001b[0m\u001b[0;34m\u001b[0m\u001b[0;34m\u001b[0m\u001b[0;34m\u001b[0m\u001b[0m\n\u001b[1;32m   1284\u001b[0m                 \u001b[0mkwargs\u001b[0m \u001b[0;34m=\u001b[0m \u001b[0;34m{\u001b[0m\u001b[0;34m\"raise_missing\"\u001b[0m\u001b[0;34m:\u001b[0m \u001b[0;32mTrue\u001b[0m \u001b[0;32mif\u001b[0m \u001b[0mis_setter\u001b[0m \u001b[0;32melse\u001b[0m \u001b[0mraise_missing\u001b[0m\u001b[0;34m}\u001b[0m\u001b[0;34m\u001b[0m\u001b[0;34m\u001b[0m\u001b[0m\n\u001b[0;32m-> 1285\u001b[0;31m                 \u001b[0;32mreturn\u001b[0m \u001b[0mself\u001b[0m\u001b[0;34m.\u001b[0m\u001b[0m_get_listlike_indexer\u001b[0m\u001b[0;34m(\u001b[0m\u001b[0mobj\u001b[0m\u001b[0;34m,\u001b[0m \u001b[0maxis\u001b[0m\u001b[0;34m,\u001b[0m \u001b[0;34m**\u001b[0m\u001b[0mkwargs\u001b[0m\u001b[0;34m)\u001b[0m\u001b[0;34m[\u001b[0m\u001b[0;36m1\u001b[0m\u001b[0;34m]\u001b[0m\u001b[0;34m\u001b[0m\u001b[0;34m\u001b[0m\u001b[0m\n\u001b[0m\u001b[1;32m   1286\u001b[0m         \u001b[0;32melse\u001b[0m\u001b[0;34m:\u001b[0m\u001b[0;34m\u001b[0m\u001b[0;34m\u001b[0m\u001b[0m\n\u001b[1;32m   1287\u001b[0m             \u001b[0;32mtry\u001b[0m\u001b[0;34m:\u001b[0m\u001b[0;34m\u001b[0m\u001b[0;34m\u001b[0m\u001b[0m\n",
      "\u001b[0;32m/usr/lib/python3/dist-packages/pandas/core/indexing.py\u001b[0m in \u001b[0;36m_get_listlike_indexer\u001b[0;34m(self, key, axis, raise_missing)\u001b[0m\n\u001b[1;32m   1089\u001b[0m             \u001b[0mkeyarr\u001b[0m\u001b[0;34m,\u001b[0m \u001b[0mindexer\u001b[0m\u001b[0;34m,\u001b[0m \u001b[0mnew_indexer\u001b[0m \u001b[0;34m=\u001b[0m \u001b[0max\u001b[0m\u001b[0;34m.\u001b[0m\u001b[0m_reindex_non_unique\u001b[0m\u001b[0;34m(\u001b[0m\u001b[0mkeyarr\u001b[0m\u001b[0;34m)\u001b[0m\u001b[0;34m\u001b[0m\u001b[0;34m\u001b[0m\u001b[0m\n\u001b[1;32m   1090\u001b[0m \u001b[0;34m\u001b[0m\u001b[0m\n\u001b[0;32m-> 1091\u001b[0;31m         self._validate_read_indexer(\n\u001b[0m\u001b[1;32m   1092\u001b[0m             \u001b[0mkeyarr\u001b[0m\u001b[0;34m,\u001b[0m \u001b[0mindexer\u001b[0m\u001b[0;34m,\u001b[0m \u001b[0mo\u001b[0m\u001b[0;34m.\u001b[0m\u001b[0m_get_axis_number\u001b[0m\u001b[0;34m(\u001b[0m\u001b[0maxis\u001b[0m\u001b[0;34m)\u001b[0m\u001b[0;34m,\u001b[0m \u001b[0mraise_missing\u001b[0m\u001b[0;34m=\u001b[0m\u001b[0mraise_missing\u001b[0m\u001b[0;34m\u001b[0m\u001b[0;34m\u001b[0m\u001b[0m\n\u001b[1;32m   1093\u001b[0m         )\n",
      "\u001b[0;32m/usr/lib/python3/dist-packages/pandas/core/indexing.py\u001b[0m in \u001b[0;36m_validate_read_indexer\u001b[0;34m(self, key, indexer, axis, raise_missing)\u001b[0m\n\u001b[1;32m   1183\u001b[0m             \u001b[0;32mif\u001b[0m \u001b[0;32mnot\u001b[0m \u001b[0;34m(\u001b[0m\u001b[0mself\u001b[0m\u001b[0;34m.\u001b[0m\u001b[0mname\u001b[0m \u001b[0;34m==\u001b[0m \u001b[0;34m\"loc\"\u001b[0m \u001b[0;32mand\u001b[0m \u001b[0;32mnot\u001b[0m \u001b[0mraise_missing\u001b[0m\u001b[0;34m)\u001b[0m\u001b[0;34m:\u001b[0m\u001b[0;34m\u001b[0m\u001b[0;34m\u001b[0m\u001b[0m\n\u001b[1;32m   1184\u001b[0m                 \u001b[0mnot_found\u001b[0m \u001b[0;34m=\u001b[0m \u001b[0mlist\u001b[0m\u001b[0;34m(\u001b[0m\u001b[0mset\u001b[0m\u001b[0;34m(\u001b[0m\u001b[0mkey\u001b[0m\u001b[0;34m)\u001b[0m \u001b[0;34m-\u001b[0m \u001b[0mset\u001b[0m\u001b[0;34m(\u001b[0m\u001b[0max\u001b[0m\u001b[0;34m)\u001b[0m\u001b[0;34m)\u001b[0m\u001b[0;34m\u001b[0m\u001b[0;34m\u001b[0m\u001b[0m\n\u001b[0;32m-> 1185\u001b[0;31m                 \u001b[0;32mraise\u001b[0m \u001b[0mKeyError\u001b[0m\u001b[0;34m(\u001b[0m\u001b[0;34m\"{} not in index\"\u001b[0m\u001b[0;34m.\u001b[0m\u001b[0mformat\u001b[0m\u001b[0;34m(\u001b[0m\u001b[0mnot_found\u001b[0m\u001b[0;34m)\u001b[0m\u001b[0;34m)\u001b[0m\u001b[0;34m\u001b[0m\u001b[0;34m\u001b[0m\u001b[0m\n\u001b[0m\u001b[1;32m   1186\u001b[0m \u001b[0;34m\u001b[0m\u001b[0m\n\u001b[1;32m   1187\u001b[0m             \u001b[0;31m# we skip the warning on Categorical/Interval\u001b[0m\u001b[0;34m\u001b[0m\u001b[0;34m\u001b[0m\u001b[0;34m\u001b[0m\u001b[0m\n",
      "\u001b[0;31mKeyError\u001b[0m: \"['Nährstoff'] not in index\""
     ]
    }
   ],
   "source": [
    "# Reorder columns\n",
    "column_order = ['Nährstoff', 'Claim', 'Processed_Claim', 'Bedingungen']\n",
    "df = df[column_order]"
   ]
  },
  {
   "cell_type": "markdown",
   "id": "6e9d2b7b",
   "metadata": {},
   "source": [
    "# Save in json file"
   ]
  },
  {
   "cell_type": "code",
   "execution_count": 48,
   "id": "6dd70a34",
   "metadata": {},
   "outputs": [],
   "source": [
    "df.to_json('claims_list.json', orient='records', lines=True, force_ascii=False)"
   ]
  },
  {
   "cell_type": "code",
   "execution_count": 49,
   "id": "12a9183b",
   "metadata": {},
   "outputs": [
    {
     "data": {
      "text/html": [
       "<div>\n",
       "<style scoped>\n",
       "    .dataframe tbody tr th:only-of-type {\n",
       "        vertical-align: middle;\n",
       "    }\n",
       "\n",
       "    .dataframe tbody tr th {\n",
       "        vertical-align: top;\n",
       "    }\n",
       "\n",
       "    .dataframe thead th {\n",
       "        text-align: right;\n",
       "    }\n",
       "</style>\n",
       "<table border=\"1\" class=\"dataframe\">\n",
       "  <thead>\n",
       "    <tr style=\"text-align: right;\">\n",
       "      <th></th>\n",
       "      <th>Claim</th>\n",
       "      <th>Processed_Claim</th>\n",
       "      <th>Bedingungen</th>\n",
       "    </tr>\n",
       "  </thead>\n",
       "  <tbody>\n",
       "    <tr>\n",
       "      <th>0</th>\n",
       "      <td>Aktivkohle trägt zur Verringerung übermäßiger ...</td>\n",
       "      <td>Aktivkohle tragen Verringerung übermäßig Blähu...</td>\n",
       "      <td>Die Angabe darf nur für Lebensmittel verwendet...</td>\n",
       "    </tr>\n",
       "    <tr>\n",
       "      <th>2</th>\n",
       "      <td>Der Verzehr von Alpha-Cyclodextrin als Bestand...</td>\n",
       "      <td>Verzehr Bestandteil stärkehaltig Mahlzeit trag...</td>\n",
       "      <td>Die Angabe darf verwendet werden für Lebensmit...</td>\n",
       "    </tr>\n",
       "    <tr>\n",
       "      <th>4</th>\n",
       "      <td>ALA trägt zur Aufrechterhaltung eines normalen...</td>\n",
       "      <td>ALA tragen Aufrechterhaltung normal Cholesteri...</td>\n",
       "      <td>Die Angabe darf nur für Lebensmittel verwendet...</td>\n",
       "    </tr>\n",
       "    <tr>\n",
       "      <th>5</th>\n",
       "      <td>Die Aufnahme von Arabinoxylan als Bestandteil ...</td>\n",
       "      <td>Aufnahme Arabinoxylan Bestandteil Mahlzeit tra...</td>\n",
       "      <td>Die Angabe darf nur für Lebensmittel verwendet...</td>\n",
       "    </tr>\n",
       "    <tr>\n",
       "      <th>6</th>\n",
       "      <td>Beta-Glucane tragen zur Aufrechterhaltung eine...</td>\n",
       "      <td>tragen Aufrechterhaltung normal Cholesterinspi...</td>\n",
       "      <td>Die Angabe darf nur für Lebensmittel verwendet...</td>\n",
       "    </tr>\n",
       "    <tr>\n",
       "      <th>...</th>\n",
       "      <td>...</td>\n",
       "      <td>...</td>\n",
       "      <td>...</td>\n",
       "    </tr>\n",
       "    <tr>\n",
       "      <th>268</th>\n",
       "      <td>Zuckerfreier Kaugummi trägt zur Erhaltung der ...</td>\n",
       "      <td>Zuckerfreier Kaugummi tragen Erhaltung Zahnmin...</td>\n",
       "      <td>Die Angabe darf nur für Kaugummi verwendet wer...</td>\n",
       "    </tr>\n",
       "    <tr>\n",
       "      <th>269</th>\n",
       "      <td>Zuckerfreier Kaugummi trägt zur Neutralisierun...</td>\n",
       "      <td>Zuckerfreier Kaugummi tragen Neutralisierung S...</td>\n",
       "      <td>Die Angabe darf nur für Kaugummi verwendet wer...</td>\n",
       "    </tr>\n",
       "    <tr>\n",
       "      <th>270</th>\n",
       "      <td>Zuckerfreier Kaugummi trägt zur Verringerung v...</td>\n",
       "      <td>Zuckerfreier Kaugummi tragen Verringerung Mund...</td>\n",
       "      <td>Die Angabe darf nur für Kaugummi verwendet wer...</td>\n",
       "    </tr>\n",
       "    <tr>\n",
       "      <th>271</th>\n",
       "      <td>Zuckerfreier Kaugummi mit Carbamid neutralisie...</td>\n",
       "      <td>Zuckerfreier Kaugummi Carbamid neutralisieren ...</td>\n",
       "      <td>Die Angabe darf nur für Kaugummi verwendet wer...</td>\n",
       "    </tr>\n",
       "    <tr>\n",
       "      <th>272</th>\n",
       "      <td>SUB_TABLE_PLACEHOLDER</td>\n",
       "      <td></td>\n",
       "      <td>SUB_TABLE_PLACEHOLDER</td>\n",
       "    </tr>\n",
       "  </tbody>\n",
       "</table>\n",
       "<p>241 rows × 3 columns</p>\n",
       "</div>"
      ],
      "text/plain": [
       "                                                 Claim  \\\n",
       "0    Aktivkohle trägt zur Verringerung übermäßiger ...   \n",
       "2    Der Verzehr von Alpha-Cyclodextrin als Bestand...   \n",
       "4    ALA trägt zur Aufrechterhaltung eines normalen...   \n",
       "5    Die Aufnahme von Arabinoxylan als Bestandteil ...   \n",
       "6    Beta-Glucane tragen zur Aufrechterhaltung eine...   \n",
       "..                                                 ...   \n",
       "268  Zuckerfreier Kaugummi trägt zur Erhaltung der ...   \n",
       "269  Zuckerfreier Kaugummi trägt zur Neutralisierun...   \n",
       "270  Zuckerfreier Kaugummi trägt zur Verringerung v...   \n",
       "271  Zuckerfreier Kaugummi mit Carbamid neutralisie...   \n",
       "272                              SUB_TABLE_PLACEHOLDER   \n",
       "\n",
       "                                       Processed_Claim  \\\n",
       "0    Aktivkohle tragen Verringerung übermäßig Blähu...   \n",
       "2    Verzehr Bestandteil stärkehaltig Mahlzeit trag...   \n",
       "4    ALA tragen Aufrechterhaltung normal Cholesteri...   \n",
       "5    Aufnahme Arabinoxylan Bestandteil Mahlzeit tra...   \n",
       "6    tragen Aufrechterhaltung normal Cholesterinspi...   \n",
       "..                                                 ...   \n",
       "268  Zuckerfreier Kaugummi tragen Erhaltung Zahnmin...   \n",
       "269  Zuckerfreier Kaugummi tragen Neutralisierung S...   \n",
       "270  Zuckerfreier Kaugummi tragen Verringerung Mund...   \n",
       "271  Zuckerfreier Kaugummi Carbamid neutralisieren ...   \n",
       "272                                                      \n",
       "\n",
       "                                           Bedingungen  \n",
       "0    Die Angabe darf nur für Lebensmittel verwendet...  \n",
       "2    Die Angabe darf verwendet werden für Lebensmit...  \n",
       "4    Die Angabe darf nur für Lebensmittel verwendet...  \n",
       "5    Die Angabe darf nur für Lebensmittel verwendet...  \n",
       "6    Die Angabe darf nur für Lebensmittel verwendet...  \n",
       "..                                                 ...  \n",
       "268  Die Angabe darf nur für Kaugummi verwendet wer...  \n",
       "269  Die Angabe darf nur für Kaugummi verwendet wer...  \n",
       "270  Die Angabe darf nur für Kaugummi verwendet wer...  \n",
       "271  Die Angabe darf nur für Kaugummi verwendet wer...  \n",
       "272                              SUB_TABLE_PLACEHOLDER  \n",
       "\n",
       "[241 rows x 3 columns]"
      ]
     },
     "execution_count": 49,
     "metadata": {},
     "output_type": "execute_result"
    }
   ],
   "source": [
    "df"
   ]
  },
  {
   "cell_type": "code",
   "execution_count": null,
   "id": "eb47c309",
   "metadata": {},
   "outputs": [],
   "source": []
  },
  {
   "cell_type": "code",
   "execution_count": null,
   "id": "22410309",
   "metadata": {},
   "outputs": [],
   "source": []
  }
 ],
 "metadata": {
  "kernelspec": {
   "display_name": "Python 3",
   "language": "python",
   "name": "python3"
  },
  "language_info": {
   "codemirror_mode": {
    "name": "ipython",
    "version": 3
   },
   "file_extension": ".py",
   "mimetype": "text/x-python",
   "name": "python",
   "nbconvert_exporter": "python",
   "pygments_lexer": "ipython3",
   "version": "3.8.10"
  }
 },
 "nbformat": 4,
 "nbformat_minor": 5
}
