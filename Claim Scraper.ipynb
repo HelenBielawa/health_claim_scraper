{
 "cells": [
  {
   "cell_type": "code",
   "execution_count": 7,
   "id": "085d666c",
   "metadata": {},
   "outputs": [],
   "source": [
    "import pandas as pd\n",
    "import requests\n",
    "from bs4 import BeautifulSoup"
   ]
  },
  {
   "cell_type": "code",
   "execution_count": 2,
   "id": "a48e9bf4",
   "metadata": {},
   "outputs": [],
   "source": [
    "\n",
    "URL = \"https://eur-lex.europa.eu/legal-content/DE/TXT/HTML/?uri=CELEX:02012R0432-20210517#tocId5\"\n",
    "page = requests.get(URL)\n",
    "\n",
    "soup = BeautifulSoup(page.content, \"html.parser\")"
   ]
  },
  {
   "cell_type": "code",
   "execution_count": 49,
   "id": "c79aade2",
   "metadata": {},
   "outputs": [],
   "source": [
    "# Find the <p> tag with class \"title-table\"\n",
    "title_table_p = soup.find('p', class_='title-table')\n",
    "\n",
    "# Find the next <table> tag following the title-table <p> tag\n",
    "desired_table = title_table_p.find_next('table')\n",
    "\n",
    "# Replace sub-tables in cells with a placeholder string\n",
    "for cell in desired_table.find_all('td'):\n",
    "    sub_table = cell.find('table')\n",
    "    if sub_table:\n",
    "        cell.string = 'SUB_TABLE_PLACEHOLDER'"
   ]
  },
  {
   "cell_type": "code",
   "execution_count": 50,
   "id": "6a64c9da",
   "metadata": {},
   "outputs": [],
   "source": [
    "headers = [header.get_text(strip=True) for header in desired_table.find('tr').find_all('td')]"
   ]
  },
  {
   "cell_type": "code",
   "execution_count": 60,
   "id": "f4d5344f",
   "metadata": {},
   "outputs": [],
   "source": [
    "df = pd.read_html(str(desired_table), header=0)[0]\n",
    "df = df.drop(columns=['Bedingungen und/oder Beschränkungen hinsichtlich der Verwendung des Lebensmittels und/oder zusätzliche Erklärungen oder Warnungen',\n",
    "                       'Nummer im EFSA Journal',\n",
    "                       'Nummer des Eintrags in der konsolidierten Liste, die der EFSA zur Bewertung vorgelegt wurde'])\n",
    "df = df.rename(columns={\"Nährstoff, Substanz, Lebensmittel oder Lebensmittelkategorie\": \"Nährstoff\",\n",
    "                        \"Angabe\":\"Claim\",\n",
    "                   \"Bedingungen für die Verwendung der Angabe\": \"Bedingungen\",\n",
    "                  })"
   ]
  },
  {
   "cell_type": "code",
   "execution_count": 67,
   "id": "98f9cee2",
   "metadata": {},
   "outputs": [],
   "source": [
    "# Define the pattern to look for in the specified columns\n",
    "pattern_to_drop = \"▼\"\n",
    "\n",
    "# Create a boolean mask indicating which rows to drop\n",
    "rows_to_drop = df.apply(lambda row: any(pattern_to_drop in value for value in row), axis=1)\n",
    "\n",
    "# Drop the rows from the DataFrame\n",
    "df_filtered = df[~rows_to_drop]"
   ]
  },
  {
   "cell_type": "code",
   "execution_count": 68,
   "id": "fd6b03a5",
   "metadata": {},
   "outputs": [],
   "source": [
    "df_filtered.to_json('claims_list.json', orient='records', lines=True, force_ascii=False)"
   ]
  },
  {
   "cell_type": "code",
   "execution_count": 63,
   "id": "e01c00d8",
   "metadata": {},
   "outputs": [
    {
     "data": {
      "text/html": [
       "<div>\n",
       "<style scoped>\n",
       "    .dataframe tbody tr th:only-of-type {\n",
       "        vertical-align: middle;\n",
       "    }\n",
       "\n",
       "    .dataframe tbody tr th {\n",
       "        vertical-align: top;\n",
       "    }\n",
       "\n",
       "    .dataframe thead th {\n",
       "        text-align: right;\n",
       "    }\n",
       "</style>\n",
       "<table border=\"1\" class=\"dataframe\">\n",
       "  <thead>\n",
       "    <tr style=\"text-align: right;\">\n",
       "      <th></th>\n",
       "      <th>Nährstoff</th>\n",
       "      <th>Claim</th>\n",
       "      <th>Bedingungen</th>\n",
       "    </tr>\n",
       "  </thead>\n",
       "  <tbody>\n",
       "    <tr>\n",
       "      <th>0</th>\n",
       "      <td>Aktivkohle</td>\n",
       "      <td>Aktivkohle trägt zur Verringerung übermäßiger ...</td>\n",
       "      <td>Die Angabe darf nur für Lebensmittel verwendet...</td>\n",
       "    </tr>\n",
       "    <tr>\n",
       "      <th>1</th>\n",
       "      <td>▼M1</td>\n",
       "      <td>▼M1</td>\n",
       "      <td>▼M1</td>\n",
       "    </tr>\n",
       "    <tr>\n",
       "      <th>2</th>\n",
       "      <td>Alpha-Cyclodextrin</td>\n",
       "      <td>Der Verzehr von Alpha-Cyclodextrin als Bestand...</td>\n",
       "      <td>Die Angabe darf verwendet werden für Lebensmit...</td>\n",
       "    </tr>\n",
       "    <tr>\n",
       "      <th>3</th>\n",
       "      <td>▼B</td>\n",
       "      <td>▼B</td>\n",
       "      <td>▼B</td>\n",
       "    </tr>\n",
       "    <tr>\n",
       "      <th>4</th>\n",
       "      <td>Alpha-Linolensäure (ALA)</td>\n",
       "      <td>ALA trägt zur Aufrechterhaltung eines normalen...</td>\n",
       "      <td>Die Angabe darf nur für Lebensmittel verwendet...</td>\n",
       "    </tr>\n",
       "    <tr>\n",
       "      <th>...</th>\n",
       "      <td>...</td>\n",
       "      <td>...</td>\n",
       "      <td>...</td>\n",
       "    </tr>\n",
       "    <tr>\n",
       "      <th>268</th>\n",
       "      <td>Zuckerfreier Kaugummi</td>\n",
       "      <td>Zuckerfreier Kaugummi trägt zur Erhaltung der ...</td>\n",
       "      <td>Die Angabe darf nur für Kaugummi verwendet wer...</td>\n",
       "    </tr>\n",
       "    <tr>\n",
       "      <th>269</th>\n",
       "      <td>Zuckerfreier Kaugummi</td>\n",
       "      <td>Zuckerfreier Kaugummi trägt zur Neutralisierun...</td>\n",
       "      <td>Die Angabe darf nur für Kaugummi verwendet wer...</td>\n",
       "    </tr>\n",
       "    <tr>\n",
       "      <th>270</th>\n",
       "      <td>Zuckerfreier Kaugummi</td>\n",
       "      <td>Zuckerfreier Kaugummi trägt zur Verringerung v...</td>\n",
       "      <td>Die Angabe darf nur für Kaugummi verwendet wer...</td>\n",
       "    </tr>\n",
       "    <tr>\n",
       "      <th>271</th>\n",
       "      <td>Zuckerfreier Kaugummi mit Carbamid</td>\n",
       "      <td>Zuckerfreier Kaugummi mit Carbamid neutralisie...</td>\n",
       "      <td>Die Angabe darf nur für Kaugummi verwendet wer...</td>\n",
       "    </tr>\n",
       "    <tr>\n",
       "      <th>272</th>\n",
       "      <td>SUB_TABLE_PLACEHOLDER</td>\n",
       "      <td>SUB_TABLE_PLACEHOLDER</td>\n",
       "      <td>SUB_TABLE_PLACEHOLDER</td>\n",
       "    </tr>\n",
       "  </tbody>\n",
       "</table>\n",
       "<p>273 rows × 3 columns</p>\n",
       "</div>"
      ],
      "text/plain": [
       "                              Nährstoff  \\\n",
       "0                            Aktivkohle   \n",
       "1                                   ▼M1   \n",
       "2                    Alpha-Cyclodextrin   \n",
       "3                                    ▼B   \n",
       "4              Alpha-Linolensäure (ALA)   \n",
       "..                                  ...   \n",
       "268               Zuckerfreier Kaugummi   \n",
       "269               Zuckerfreier Kaugummi   \n",
       "270               Zuckerfreier Kaugummi   \n",
       "271  Zuckerfreier Kaugummi mit Carbamid   \n",
       "272               SUB_TABLE_PLACEHOLDER   \n",
       "\n",
       "                                                 Claim  \\\n",
       "0    Aktivkohle trägt zur Verringerung übermäßiger ...   \n",
       "1                                                  ▼M1   \n",
       "2    Der Verzehr von Alpha-Cyclodextrin als Bestand...   \n",
       "3                                                   ▼B   \n",
       "4    ALA trägt zur Aufrechterhaltung eines normalen...   \n",
       "..                                                 ...   \n",
       "268  Zuckerfreier Kaugummi trägt zur Erhaltung der ...   \n",
       "269  Zuckerfreier Kaugummi trägt zur Neutralisierun...   \n",
       "270  Zuckerfreier Kaugummi trägt zur Verringerung v...   \n",
       "271  Zuckerfreier Kaugummi mit Carbamid neutralisie...   \n",
       "272                              SUB_TABLE_PLACEHOLDER   \n",
       "\n",
       "                                           Bedingungen  \n",
       "0    Die Angabe darf nur für Lebensmittel verwendet...  \n",
       "1                                                  ▼M1  \n",
       "2    Die Angabe darf verwendet werden für Lebensmit...  \n",
       "3                                                   ▼B  \n",
       "4    Die Angabe darf nur für Lebensmittel verwendet...  \n",
       "..                                                 ...  \n",
       "268  Die Angabe darf nur für Kaugummi verwendet wer...  \n",
       "269  Die Angabe darf nur für Kaugummi verwendet wer...  \n",
       "270  Die Angabe darf nur für Kaugummi verwendet wer...  \n",
       "271  Die Angabe darf nur für Kaugummi verwendet wer...  \n",
       "272                              SUB_TABLE_PLACEHOLDER  \n",
       "\n",
       "[273 rows x 3 columns]"
      ]
     },
     "execution_count": 63,
     "metadata": {},
     "output_type": "execute_result"
    }
   ],
   "source": [
    "df"
   ]
  },
  {
   "cell_type": "code",
   "execution_count": null,
   "id": "47f8cd11",
   "metadata": {},
   "outputs": [],
   "source": []
  }
 ],
 "metadata": {
  "kernelspec": {
   "display_name": "Python 3",
   "language": "python",
   "name": "python3"
  },
  "language_info": {
   "codemirror_mode": {
    "name": "ipython",
    "version": 3
   },
   "file_extension": ".py",
   "mimetype": "text/x-python",
   "name": "python",
   "nbconvert_exporter": "python",
   "pygments_lexer": "ipython3",
   "version": "3.8.10"
  }
 },
 "nbformat": 4,
 "nbformat_minor": 5
}
